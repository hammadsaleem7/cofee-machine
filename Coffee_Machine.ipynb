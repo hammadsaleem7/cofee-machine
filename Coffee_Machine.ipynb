{
  "nbformat": 4,
  "nbformat_minor": 0,
  "metadata": {
    "colab": {
      "provenance": []
    },
    "kernelspec": {
      "name": "python3",
      "display_name": "Python 3"
    },
    "language_info": {
      "name": "python"
    }
  },
  "cells": [
    {
      "cell_type": "code",
      "execution_count": null,
      "metadata": {
        "colab": {
          "base_uri": "https://localhost:8080/"
        },
        "id": "1oVTZsaGmFes",
        "outputId": "3b55dd7d-d0cf-4238-e0ca-99b4912bafa5"
      },
      "outputs": [
        {
          "output_type": "stream",
          "name": "stdout",
          "text": [
            "Welcome to the coffee Shop \n",
            "\n",
            "What's your good name? Hammad\n",
            "\n",
            " coffee price: Espresso is $10, Americano is $15, Latte is $ 20\n",
            "\n",
            " Hi Hammad , What would you like to have? (Espresso, Americano, Latte) Espresso\n",
            "\n",
            " Espresso is one of our best coffee you must like it, please insert the 10 dollar 10\n",
            "\n",
            " Hammad your Espresso is ready take it and enjoy the coffee :) \n",
            "\n",
            " Hi Hammad , Can you want coffee again? (Espresso, Americano, Latte) or No  No\n",
            "\n",
            " Thank you Hammad to visit the coffee shop\n"
          ]
        }
      ],
      "source": [
        "print(\"Welcome to the coffee Shop \\n\")\n",
        "C_name = input(\"What's your good name? \")\n",
        "print(\"\\n coffee price: Espresso is $10, Americano is $15, Latte is $ 20\")\n",
        "cofee = input(\"\\n Hi {} , What would you like to have? (Espresso, Americano, Latte) \".format(C_name))\n",
        "\n",
        "\n",
        "\n",
        "E = 10\n",
        "A = 15\n",
        "L = 20\n",
        "\n",
        "again = 1\n",
        "\n",
        "while again == 1:\n",
        "\n",
        "\n",
        "  if cofee == \"Espresso\":\n",
        "    coin = int(input(\"\\n {} is one of our best coffee you must like it, please insert the {} dollar \".format(cofee,E)))\n",
        "    if coin == 10:\n",
        "      print(\"\\n {} your Espresso is ready take it and enjoy the coffee :) \".format(C_name))\n",
        "    else:\n",
        "      print(\"\\n {} you enter wrong amount please enter the {}\".format(C_name,E))\n",
        "\n",
        "  elif cofee == \"Americano\":\n",
        "\n",
        "    coin = int(input(\"\\n {} is one of our best coffee you must like it, please insert the {} dollar \".format(cofee,A)))\n",
        "    if coin == 15:\n",
        "      print(\"\\n {} your Espresso is ready take it and enjoy the coffee :)\".format(C_name))\n",
        "    else:\n",
        "      print(\"\\n {} you enter wrong amount please enter the {}\".format(C_name,A))\n",
        "\n",
        "\n",
        "  elif cofee == \"Latte\":\n",
        "    coin = int(input(\"\\n {} is one of our best coffee you must like it, please insert the {} dollar \".format(cofee,L)))\n",
        "    if coin == 15:\n",
        "      print(\"\\n {} your Espresso is ready take it and enjoy the coffee :)\".format(C_name))\n",
        "    else:\n",
        "      print(\"\\n {} you enter wrong amount please enter the {}\".format(C_name,L))\n",
        "\n",
        "  elif cofee == \"No\":\n",
        "      print(\"\\n Thank you {} for visit the coffee shop\".format(C_name,L))\n",
        "\n",
        "\n",
        "  else:\n",
        "      print(\"\\n Please type the correct coffee name (Espresso, Americano, Latte) \")\n",
        "      again = input(\"\\n Would you like to do again ? (Yes or No)\")\n",
        "\n",
        "      if again == \"No\":\n",
        "            again = 0\n",
        "            print(\"\\n Thank you {} for visit the coffee shop\".format(C_name,L))\n",
        "\n",
        "      elif again == \"Yes\":\n",
        "            again = 1\n",
        "\n",
        "  cofee = input(\"\\n Hi {} , Can you want coffee again? (Espresso, Americano, Latte) or No  \".format(C_name))\n",
        "  if cofee == \"No\":\n",
        "    print(\"\\n Thank you {} to visit the coffee shop\".format(C_name,L))\n",
        "    again= 0\n",
        "  else:\n",
        "    again= 1\n",
        "\n",
        "\n",
        "\n",
        "\n"
      ]
    },
    {
      "cell_type": "code",
      "source": [],
      "metadata": {
        "id": "XiETFUW7vjA7"
      },
      "execution_count": null,
      "outputs": []
    }
  ]
}